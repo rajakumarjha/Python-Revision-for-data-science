{
 "cells": [
  {
   "cell_type": "code",
   "execution_count": 5,
   "metadata": {},
   "outputs": [
    {
     "name": "stdout",
     "output_type": "stream",
     "text": [
      "['False', 'None', 'True', 'and', 'as', 'assert', 'break', 'class', 'continue', 'def', 'del', 'elif', 'else', 'except', 'finally', 'for', 'from', 'global', 'if', 'import', 'in', 'is', 'lambda', 'nonlocal', 'not', 'or', 'pass', 'raise', 'return', 'try', 'while', 'with', 'yield']\n"
     ]
    }
   ],
   "source": [
    "import keyword\n",
    "print(keyword.kwlist)#this line will print all keyword"
   ]
  },
  {
   "cell_type": "code",
   "execution_count": 10,
   "metadata": {},
   "outputs": [
    {
     "name": "stdout",
     "output_type": "stream",
     "text": [
      "10\n"
     ]
    }
   ],
   "source": [
    "a=(1+2+\n",
    "  3+4)# to avoid /n as delimiter we go for small bracket. \n",
    "print(a)"
   ]
  },
  {
   "cell_type": "code",
   "execution_count": 11,
   "metadata": {},
   "outputs": [
    {
     "name": "stdout",
     "output_type": "stream",
     "text": [
      "1412525600\n",
      "1412525600\n"
     ]
    }
   ],
   "source": [
    "x=3;y=3\n",
    "print(id(x))\n",
    "print(id(y))# Both of them have same id because both variable points to same memory location for same value."
   ]
  },
  {
   "cell_type": "code",
   "execution_count": 14,
   "metadata": {},
   "outputs": [
    {
     "name": "stdout",
     "output_type": "stream",
     "text": [
      "<class 'bool'>\n"
     ]
    }
   ],
   "source": [
    "a=True\n",
    "print(type(a))# type function can be used to find what is the type of variable."
   ]
  },
  {
   "cell_type": "code",
   "execution_count": 16,
   "metadata": {},
   "outputs": [
    {
     "name": "stdout",
     "output_type": "stream",
     "text": [
      "My name is raja\n"
     ]
    }
   ],
   "source": [
    "str=\"My name is raja\" # same wave we define string as in java and are immutable like in java\n",
    "print(str)"
   ]
  },
  {
   "cell_type": "code",
   "execution_count": 20,
   "metadata": {},
   "outputs": [
    {
     "name": "stdout",
     "output_type": "stream",
     "text": [
      "[True, 'Raja', 3, 9.5]\n",
      "[5, 'Raja', 3, 9.5]\n"
     ]
    }
   ],
   "source": [
    "a=[True,\"Raja\",3,9.5] # list supports different types of datatype in the same list\n",
    "print(a)# list are mutable\n",
    "a[0]=5# modified like this\n",
    "print(a)"
   ]
  },
  {
   "cell_type": "code",
   "execution_count": 22,
   "metadata": {},
   "outputs": [
    {
     "name": "stdout",
     "output_type": "stream",
     "text": [
      "(1, 2.0, 'ML')\n",
      "It will thrpugh an error\n"
     ]
    }
   ],
   "source": [
    "a=(1,2.0,\"ML\")# tuple also support every thing like list except \n",
    "print(a);#it is not mutable\n",
    "print(\"It will through an error\")\n",
    "# a(1)=8 can't modify like this\n"
   ]
  },
  {
   "cell_type": "code",
   "execution_count": 26,
   "metadata": {},
   "outputs": [
    {
     "name": "stdout",
     "output_type": "stream",
     "text": [
      "{8, 2, 5, 6}\n"
     ]
    }
   ],
   "source": [
    "a={2,5,6,8,5,2}# set  in python support every operation mathematical set holds\n",
    "print(a)\n",
    "# this unordered ..."
   ]
  },
  {
   "cell_type": "code",
   "execution_count": 30,
   "metadata": {},
   "outputs": [
    {
     "name": "stdout",
     "output_type": "stream",
     "text": [
      "a\n",
      "1\n"
     ]
    }
   ],
   "source": [
    "d={1:\"a\",2:\"b\"} # dictionary is my favourite data structure \n",
    "print(d[1])# get value associated with key\n",
    "d1={\"a\":1,2:\"b\"}\n",
    "print(d1['a'])# we can have any dataype as a key mapped to any data type of value."
   ]
  },
  {
   "cell_type": "code",
   "execution_count": 42,
   "metadata": {},
   "outputs": [
    {
     "name": "stdout",
     "output_type": "stream",
     "text": [
      "50.0\n",
      "Congratulations you have won50 rupees\n"
     ]
    }
   ],
   "source": [
    "a=50 #float value\n",
    "print(float(a)) # int(), float(),etc are used to convert to particular data type\n",
    "print(\"Congratulations you have won\"+\"50 \"+\"rupees\") # string concaenation actually new string is replcing odl one"
   ]
  },
  {
   "cell_type": "code",
   "execution_count": 43,
   "metadata": {},
   "outputs": [
    {
     "name": "stdout",
     "output_type": "stream",
     "text": [
      "<class 'list'>\n",
      "{1, 2, 3}\n",
      "<class 'set'>\n"
     ]
    }
   ],
   "source": [
    "a=[1,2,3,3]\n",
    "print(type(a))\n",
    "s=set(a) # converting list to set   \n",
    "print(s) #duplicate will be lost\n",
    "print(type(s))"
   ]
  },
  {
   "cell_type": "code",
   "execution_count": 45,
   "metadata": {},
   "outputs": [
    {
     "name": "stdout",
     "output_type": "stream",
     "text": [
      "['R', 'a', 'j', 'a']\n"
     ]
    }
   ],
   "source": [
    "s=\"Raja\"\n",
    "l=list(s)# list is very nice method directly converting string to array of integer\n",
    "print(l)"
   ]
  },
  {
   "cell_type": "code",
   "execution_count": 50,
   "metadata": {},
   "outputs": [
    {
     "name": "stdout",
     "output_type": "stream",
     "text": [
      "This is the value of a 50\n"
     ]
    }
   ],
   "source": [
    "a=50\n",
    "print(\"This is the value of a\",a)\n",
    "#print(\"This is the value of a\",str(a))"
   ]
  },
  {
   "cell_type": "code",
   "execution_count": 56,
   "metadata": {},
   "outputs": [
    {
     "name": "stdout",
     "output_type": "stream",
     "text": [
      "The value of a is 50 and b is 20\n",
      "Hello Raja G good night\n"
     ]
    }
   ],
   "source": [
    "a=20;b=50\n",
    "print(\"The value of a is {1} and b is {0}\".format(a,b))# formated output.\n",
    "#keyword argument to formae the argument\n",
    "print(\"Hello {name} good night\".format(name=\"Raja G\"))\n",
    "# A combination of both is also possible"
   ]
  },
  {
   "cell_type": "code",
   "execution_count": 58,
   "metadata": {},
   "outputs": [
    {
     "name": "stdout",
     "output_type": "stream",
     "text": [
      "Enter a number 69\n",
      "69\n",
      "Enter a number63\n",
      "63.0\n"
     ]
    }
   ],
   "source": [
    "# aking input\n",
    "num=input(\"Enter a number \"); # This way we take input in python\n",
    "print(num)\n",
    "numf=float(input(\"Enter a number\"))\n",
    "print(numf)"
   ]
  },
  {
   "cell_type": "code",
   "execution_count": 60,
   "metadata": {},
   "outputs": [
    {
     "name": "stdout",
     "output_type": "stream",
     "text": [
      "2\n",
      "32\n"
     ]
    }
   ],
   "source": [
    "# arithmatic operator \n",
    "print(5//2)# floor operator\n",
    "print(2**5)# exponent operator"
   ]
  },
  {
   "cell_type": "code",
   "execution_count": 63,
   "metadata": {},
   "outputs": [
    {
     "name": "stdout",
     "output_type": "stream",
     "text": [
      "Yeah! Comparision is being made\n"
     ]
    }
   ],
   "source": [
    "#Comparision operator\n",
    "if(2>=1):\n",
    "    print(\"Yeah! Comparision is being made\")\n",
    "    "
   ]
  },
  {
   "cell_type": "code",
   "execution_count": 75,
   "metadata": {},
   "outputs": [
    {
     "name": "stdout",
     "output_type": "stream",
     "text": [
      "And:  False\n",
      "Or:  True\n",
      "not of a: False\n"
     ]
    }
   ],
   "source": [
    "# Logical operator and or,not\n",
    "a=True;b=False\n",
    "print(\"And: \",a and b)\n",
    "print(\"Or: \",a or b)\n",
    "print(\"not of a:\", not a)"
   ]
  },
  {
   "cell_type": "code",
   "execution_count": 77,
   "metadata": {},
   "outputs": [
    {
     "name": "stdout",
     "output_type": "stream",
     "text": [
      "And :  0\n",
      "Or:  3\n"
     ]
    }
   ],
   "source": [
    "#bitwise operator\n",
    "print(\"And : \",5&10)\n",
    "print(\"Or: \",2|3)"
   ]
  },
  {
   "cell_type": "code",
   "execution_count": 80,
   "metadata": {},
   "outputs": [
    {
     "name": "stdout",
     "output_type": "stream",
     "text": [
      "15\n"
     ]
    }
   ],
   "source": [
    "# Assignment operator \n",
    "a=5\n",
    "a+=10 # like java we can use operators like this..\n",
    "print(a)"
   ]
  },
  {
   "cell_type": "code",
   "execution_count": 81,
   "metadata": {},
   "outputs": [],
   "source": [
    "# special operators is and isnot used to see if a variable is located at same memory location or not. \n",
    "# in and notin are membership operator which indicates whether a element is in a set,list,tupl,dictionary or not."
   ]
  },
  {
   "cell_type": "code",
   "execution_count": 83,
   "metadata": {},
   "outputs": [
    {
     "name": "stdout",
     "output_type": "stream",
     "text": [
      "Yeah we got that\n"
     ]
    }
   ],
   "source": [
    "a=[1,2,3,4]\n",
    "if(1 in a):# they are sth called as member ship operator.\n",
    "    print(\"Yeah we got that\")"
   ]
  },
  {
   "cell_type": "code",
   "execution_count": 84,
   "metadata": {},
   "outputs": [
    {
     "name": "stdout",
     "output_type": "stream",
     "text": [
      "Enter a number: 0\n",
      "Neither positive nor negative\n"
     ]
    }
   ],
   "source": [
    "num=int(input(\"Enter a number: \")) # nested if- else is same as java \n",
    "if(num>0):\n",
    "    print(\"Number is positive\")\n",
    "elif(num==0):\n",
    "    print(\"Neither positive nor negative\")\n",
    "else:\n",
    "    print(\"Number is Negative\")"
   ]
  },
  {
   "cell_type": "code",
   "execution_count": 96,
   "metadata": {},
   "outputs": [
    {
     "name": "stdout",
     "output_type": "stream",
     "text": [
      "1 fibbonacci number is 1: \n",
      "2 fibbonacci number is 2: \n",
      "3 fibbonacci number is 3: \n",
      "4 fibbonacci number is 5: \n",
      "5 fibbonacci number is 8: \n",
      "6 fibbonacci number is 13: \n",
      "7 fibbonacci number is 21: \n",
      "8 fibbonacci number is 34: \n",
      "9 fibbonacci number is 55: \n",
      "10 fibbonacci number is 89: \n",
      "11 fibbonacci number is 144: \n",
      "12 fibbonacci number is 233: \n",
      "13 fibbonacci number is 377: \n",
      "14 fibbonacci number is 610: \n",
      "15 fibbonacci number is 987: \n",
      "15 th fibbonaccci number is: 987\n"
     ]
    }
   ],
   "source": [
    "a=0;b=1;c=0\n",
    "for i in range(15):# range function give a sequence of integer\n",
    "    c=a+b\n",
    "    a=b;b=c\n",
    "    print(\"{} fibbonacci number is {}: \".format((i+1),c)) # format is a use full functon to rem\n",
    "print(\"15 th fibbonaccci number is:\",c)"
   ]
  },
  {
   "cell_type": "code",
   "execution_count": 97,
   "metadata": {},
   "outputs": [
    {
     "name": "stdout",
     "output_type": "stream",
     "text": [
      "1X1 =1\n",
      "2X2 =4\n",
      "3X3 =9\n",
      "4X4 =16\n",
      "5X5 =25\n",
      "6X6 =36\n",
      "7X7 =49\n",
      "8X8 =64\n",
      "9X9 =81\n",
      "10X10 =100\n"
     ]
    }
   ],
   "source": [
    "i=1;n=10\n",
    "while i<=n:\n",
    "    print(\"{}X{} ={}\".format(i,i,i*i))\n",
    "    i+=1"
   ]
  },
  {
   "cell_type": "code",
   "execution_count": 100,
   "metadata": {},
   "outputs": [
    {
     "name": "stdout",
     "output_type": "stream",
     "text": [
      "Dammit !!\n"
     ]
    }
   ],
   "source": [
    "number={}\n",
    "for i in number:\n",
    "    print(i)\n",
    "else:\n",
    "    print(\"Dammit !!\")"
   ]
  },
  {
   "cell_type": "code",
   "execution_count": 111,
   "metadata": {},
   "outputs": [
    {
     "name": "stdout",
     "output_type": "stream",
     "text": [
      "10 is not prime\n",
      "11 is prime\n",
      "12 is not prime\n",
      "13 is prime\n",
      "14 is not prime\n",
      "15 is prime\n",
      "16 is not prime\n",
      "17 is prime\n",
      "18 is not prime\n",
      "19 is prime\n"
     ]
    }
   ],
   "source": [
    "import math\n",
    "indexa=10;indexb=20\n",
    "check=False\n",
    "for i in range(indexb-indexa):\n",
    "    check=False\n",
    "    for j in range (2,int((math.sqrt(indexa)))):\n",
    "        if (indexa%j==0):\n",
    "            print(\"{} is not prime\".format(indexa))\n",
    "            check=True\n",
    "            break\n",
    "    if(check==False):\n",
    "        print(\"{} is prime\".format(indexa))\n",
    "    indexa+=1;\n",
    "    "
   ]
  },
  {
   "cell_type": "code",
   "execution_count": 1,
   "metadata": {},
   "outputs": [],
   "source": [
    "# Data Structure for Data Science\n"
   ]
  },
  {
   "cell_type": "code",
   "execution_count": 15,
   "metadata": {},
   "outputs": [
    {
     "name": "stdout",
     "output_type": "stream",
     "text": [
      "[3, 3, 3, 0, 2]\n",
      "Inserting into list at specified index\n",
      "[3, 3, 3, 6, 0, 2]\n",
      "6 has been removed from list [3, 3, 3, 0, 2]\n",
      "[3, 3, 3, 0, 2, [...]]\n",
      "Deleting whatever at index 1 from list\n",
      "[3, 3, 3, 0, 2]\n",
      "3 in list is found out [3, 3, 3, 0, 2]\n",
      "sorting the list : [0, 2, 3, 3, 3]\n",
      "Reverse sorted : [3, 3, 3, 2, 0]\n"
     ]
    }
   ],
   "source": [
    "import random\n",
    "l=[]\n",
    "for i in range(5):\n",
    "    l.append(random.randint(0,5))\n",
    "print(l)\n",
    "print(\"Inserting into list at specified index\")\n",
    "l.insert(3,6)\n",
    "print(l)\n",
    "l.remove(6)\n",
    "print(\"6 has been removed from list\",l)\n",
    "l.append(l)\n",
    "print(l)\n",
    "print(\"Deleting whatever at index 1 from list\")\n",
    "del l[5]\n",
    "print(l)\n",
    "if 3 in l:\n",
    "    print(\"3 in list is found out\",l)\n",
    "l.sort();   # Sorting return a new list\n",
    "print(\"sorting the list :\",l)\n",
    "l=sorted(l,reverse=True) \n",
    "print(\"Reverse sorted :\",l)\n"
   ]
  },
  {
   "cell_type": "code",
   "execution_count": 16,
   "metadata": {},
   "outputs": [
    {
     "name": "stdout",
     "output_type": "stream",
     "text": [
      "['My', 'name', 'is', 'Raja', 'kumar', 'I', 'want', 'rank', '1', 'in', 'GATE', 'CS', '2020']\n"
     ]
    }
   ],
   "source": [
    "s=\"My name is Raja kumar I want rank 1 in GATE CS 2020\"\n",
    "l=s.split(\" \")\n",
    "print(l)"
   ]
  },
  {
   "cell_type": "code",
   "execution_count": 18,
   "metadata": {},
   "outputs": [
    {
     "name": "stdout",
     "output_type": "stream",
     "text": [
      "[4, 5, 8, 1]\n"
     ]
    }
   ],
   "source": [
    "#list slicing\n",
    "l=[4,5,8,1,9,3,0]\n",
    "l1=l[0:4]\n",
    "print(l1)"
   ]
  },
  {
   "cell_type": "code",
   "execution_count": 22,
   "metadata": {},
   "outputs": [
    {
     "name": "stdout",
     "output_type": "stream",
     "text": [
      "1\n",
      "[14, 5, 6, 8, 32, 0, 1, 'Raja', 'GATE', 'CS', '2020', 'Rank', '1']\n"
     ]
    }
   ],
   "source": [
    "#adding two list\n",
    "l=[14,5,6,8,32,0,1]\n",
    "print(l.count(0))\n",
    "ls=[\"Raja\",\"GATE\",\"CS\",\"2020\",\"Rank\",\"1\"]\n",
    "l=l+ls\n",
    "print(l)"
   ]
  },
  {
   "cell_type": "code",
   "execution_count": 24,
   "metadata": {},
   "outputs": [
    {
     "name": "stdout",
     "output_type": "stream",
     "text": [
      "[81, 64, 49, 36, 25, 16, 9, 4, 1, 0]\n",
      "[(0, 0), (1, 1), (2, 4), (3, 9), (4, 16), (5, 25), (6, 36), (7, 49), (8, 64), (9, 81)]\n"
     ]
    }
   ],
   "source": [
    "#comprehension\n",
    "square=[i**2 for i in range(10)]\n",
    "square.reverse()\n",
    "print(square)\n",
    "lt=[(i,i**2) for i in range(10)]\n",
    "print(lt)\n"
   ]
  },
  {
   "cell_type": "code",
   "execution_count": 35,
   "metadata": {},
   "outputs": [
    {
     "name": "stdout",
     "output_type": "stream",
     "text": [
      "(2, 3, 5, 4, 1)\n",
      "A slice of tuple: (3,)\n",
      "[1, 2, 3, 4, 5]\n",
      "15 5 1 1\n"
     ]
    }
   ],
   "source": [
    "#tuple data structure : This is mutable it like list but we cant not modifiy it once created. \n",
    "#we can iterate through it can print slice as well\n",
    "#list inside a tuple can be changed\n",
    "#count,index,membership works perfectly fine\n",
    "# Except modification i.e append,delete,remove,insertoperation we can do whatever we do with list.\n",
    "#sorted functio returns a list.\n",
    "#while applying sort() we enventually modify the tuple which is not allowed.\n",
    "t=(2,3,5,4,1)\n",
    "print(t)\n",
    "print(\"A slice of tuple:\",t[1:2])\n",
    "l=sorted(t)\n",
    "print(l)\n",
    "#min,max,count,sum works well \n",
    "print(sum(t),max(t),min(t),l.count(1))"
   ]
  },
  {
   "cell_type": "code",
   "execution_count": 41,
   "metadata": {},
   "outputs": [
    {
     "name": "stdout",
     "output_type": "stream",
     "text": [
      "{8, 1, 2, 3}\n",
      "{1, 2, 3, 8, 9}\n",
      "{1, 2, 3, 7, 8, 9}\n",
      "{2, 3, 7, 8, 9}\n",
      "Union: {1, 2, 3, 4, 5, 7, 8, 9, 10}\n",
      "intersection: {2, 7}\n",
      "difference: {8, 9, 3}\n"
     ]
    }
   ],
   "source": [
    "#set data structure\n",
    "#It is like mathematical set. Unordered, duplicates not allowed.\n",
    "#operations like Union,Intersection,set diffrence etc are supported..\n",
    "s={1,2,3,8}\n",
    "print(s)\n",
    "# we can get set from list as well\n",
    "s.add(9) # we can add any number of different items to the set\n",
    "print(s)\n",
    "s.update([7,9,1]) #update used to update multiple items all together\n",
    "print(s)\n",
    "s.remove(1)\n",
    "print(s)\n",
    "s2=set([1,2,5,4,7,10])\n",
    "# set operation \n",
    "print(\"Union:\",s.union(s2))\n",
    "print(\"intersection:\",s.intersection(s2))\n",
    "print(\"difference:\",s.difference(s2))"
   ]
  },
  {
   "cell_type": "code",
   "execution_count": 48,
   "metadata": {},
   "outputs": [
    {
     "name": "stdout",
     "output_type": "stream",
     "text": [
      "GATE CS 2020 Rank 1\n",
      "{0: '1', 1: 'Raja', 2: 'Kumar', 3: 'GATE CS', 4: '2020 Rank 1'}\n",
      "{1: 'Raja', 2: 'Kumar', 3: 'GATE CS', 4: '2020 Rank 1'}\n",
      "dict_keys([1, 2, 3, 4])\n",
      "dict_values(['Raja', 'Kumar', 'GATE CS', '2020 Rank 1'])\n",
      "Huraah!!\n"
     ]
    }
   ],
   "source": [
    "#Dictionary data structure : Its my favourite data structure \n",
    "# cant't not be indexed\n",
    "d=dict()\n",
    "d[0]=\"1\"\n",
    "d[1]=\"Raja\"\n",
    "d[2]=\"Kumar\"\n",
    "d[3]=\"GATE CS\"\n",
    "d[4]=\"2020 Rank 1\"\n",
    "print(d[3],d[4])\n",
    "print(d)\n",
    "del d[0]\n",
    "print(d)\n",
    "print(d.keys())\n",
    "print(d.values())\n",
    "if 1 in d.keys():\n",
    "    print(\"Huraah!!\")"
   ]
  },
  {
   "cell_type": "code",
   "execution_count": 55,
   "metadata": {},
   "outputs": [
    {
     "name": "stdout",
     "output_type": "stream",
     "text": [
      "Yeah!!\n",
      "My String\n",
      "I am Raja. I will get 1st rank in GATE CS 2020\n",
      "True\n"
     ]
    }
   ],
   "source": [
    "#String in python\n",
    "s=\"Raja Kumar\"\n",
    "if s[0]=='R':\n",
    "    print(\"Yeah!!\")\n",
    "# Strins is immutable in python\n",
    "st=\"My String\"\n",
    "print(st)\n",
    "del st\n",
    "s1=\"I am Raja.\"\n",
    "s2=\" I will get 1st rank in GATE CS 2020\"\n",
    "print(s1+s2)\n",
    "# string also follow membership test !!\n",
    "print(\"2020\" in s2)"
   ]
  },
  {
   "cell_type": "code",
   "execution_count": 67,
   "metadata": {},
   "outputs": [
    {
     "name": "stdout",
     "output_type": "stream",
     "text": [
      "Raja**will**get**first**rank**in GATE-CS**2020\n"
     ]
    }
   ],
   "source": [
    "# methods: 1. lower(),upper(),.join()\n",
    "l=[\"Raja\",\"will\",\"get\",\"first\",\"rank\",\"in GATE-CS\",\"2020\"]\n",
    "print(\"**\".join(l))# join with proper delimeter\n"
   ]
  },
  {
   "cell_type": "code",
   "execution_count": 74,
   "metadata": {},
   "outputs": [
    {
     "name": "stdout",
     "output_type": "stream",
     "text": [
      "I want\n",
      "to slice a string\n",
      "I a slice string to want\n",
      "Checking if all characters are of alphabet:  False\n"
     ]
    }
   ],
   "source": [
    "s=\"I want to slice a string\"\n",
    "s1=s[:6]\n",
    "s2=s[7:] # slicing a string\n",
    "print(s1)\n",
    "print(s2)\n",
    "words=s.split()\n",
    "words.sort()\n",
    "print(\" \".join(words))\n",
    "print(\"Checking if all characters are of alphabet: \",s.isalpha())"
   ]
  },
  {
   "cell_type": "code",
   "execution_count": 81,
   "metadata": {},
   "outputs": [
    {
     "name": "stdout",
     "output_type": "stream",
     "text": [
      "3\n",
      "raja\n"
     ]
    }
   ],
   "source": [
    "# Functions in python:\n",
    "def add(a,b):\n",
    "    return (a+b)\n",
    "def rstring(a):\n",
    "    return a.lower()\n",
    "print(add(1,2))\n",
    "print(rstring(\"Raja\"))"
   ]
  },
  {
   "cell_type": "code",
   "execution_count": 84,
   "metadata": {},
   "outputs": [
    {
     "name": "stdout",
     "output_type": "stream",
     "text": [
      "7\n",
      "keywords related to set: ['__add__', '__class__', '__contains__', '__delattr__', '__dir__', '__doc__', '__eq__', '__format__', '__ge__', '__getattribute__', '__getitem__', '__getnewargs__', '__gt__', '__hash__', '__init__', '__init_subclass__', '__iter__', '__le__', '__len__', '__lt__', '__mul__', '__ne__', '__new__', '__reduce__', '__reduce_ex__', '__repr__', '__rmul__', '__setattr__', '__sizeof__', '__str__', '__subclasshook__', 'count', 'index']\n"
     ]
    }
   ],
   "source": [
    "# variables defineed inside a function are not visible outside of it.\n",
    "# Built in function\n",
    "print(abs(2-9))\n",
    "# dir(argument) will return all the keyword related to that datatype\n",
    "s=(1,2)\n",
    "print(\"keywords related to set:\",dir(s))"
   ]
  },
  {
   "cell_type": "code",
   "execution_count": 85,
   "metadata": {},
   "outputs": [
    {
     "name": "stdout",
     "output_type": "stream",
     "text": [
      "4 1\n"
     ]
    }
   ],
   "source": [
    "(a,b)=divmod(9,2) #divmod gives quotient + remainder as a return\n",
    "print(a,b)"
   ]
  },
  {
   "cell_type": "code",
   "execution_count": 18,
   "metadata": {},
   "outputs": [
    {
     "name": "stdout",
     "output_type": "stream",
     "text": [
      "[2, 5, 8, 4, 9]\n",
      "[4, 25, 64, 16, 81, 1]\n"
     ]
    }
   ],
   "source": [
    "#filter,map,reduce function...\n",
    "# filter and creates a new filter object we will convert it into list conversion based on specification\n",
    "def square(x):\n",
    "    return x**2\n",
    "ls=[2,5,8,4,9,-1]\n",
    "lf=list(filter (lambda x:x>0,ls))\n",
    "# it maps each element of list to a function passed as argument.\n",
    "lm=list(map(square,ls))\n",
    "print(lf)\n",
    "print(lm)\n"
   ]
  },
  {
   "cell_type": "code",
   "execution_count": 21,
   "metadata": {},
   "outputs": [
    {
     "name": "stdout",
     "output_type": "stream",
     "text": [
      "Hello Raja , Good Morning\n"
     ]
    }
   ],
   "source": [
    "#arguments to function\n",
    "def greet(name,msg=\"Good Morning\"):\n",
    "    print(\"Hello {} , {}\".format(name,msg))\n",
    "greet(\"Raja\")"
   ]
  },
  {
   "cell_type": "code",
   "execution_count": 24,
   "metadata": {},
   "outputs": [
    {
     "name": "stdout",
     "output_type": "stream",
     "text": [
      "Hello Raja , Good Night\n"
     ]
    }
   ],
   "source": [
    "def greet(**kwargs):\n",
    "    print(\"Hello {} , {}\".format(kwargs['name'],kwargs['msg']))\n",
    "greet(name=\"Raja\",msg=\"Good Night\")"
   ]
  },
  {
   "cell_type": "code",
   "execution_count": 30,
   "metadata": {},
   "outputs": [
    {
     "name": "stdout",
     "output_type": "stream",
     "text": [
      "Hello Raja \n",
      "Hello vikram, \n",
      "Hello vishal \n"
     ]
    }
   ],
   "source": [
    "def greet(*names):\n",
    "    for name in names:\n",
    "        print(\"Hello {} \".format(name))\n",
    "greet(\"Raja\",\"vikram,\",\"vishal\")"
   ]
  },
  {
   "cell_type": "code",
   "execution_count": 35,
   "metadata": {},
   "outputs": [
    {
     "name": "stdout",
     "output_type": "stream",
     "text": [
      "479001600\n"
     ]
    }
   ],
   "source": [
    "# Recursion\n",
    "# calling function inside a function we use recursion. \n",
    "def factorial(num):\n",
    "    if num==1:\n",
    "        return 1\n",
    "    return num*factorial(num-1)\n",
    "print(factorial(12))"
   ]
  },
  {
   "cell_type": "code",
   "execution_count": 39,
   "metadata": {},
   "outputs": [
    {
     "name": "stdout",
     "output_type": "stream",
     "text": [
      "144\n"
     ]
    }
   ],
   "source": [
    "def fib(num):\n",
    "    if num<=1:\n",
    "        return num\n",
    "    return fib(num-1)+fib(num-2)\n",
    "print(fib(12))"
   ]
  },
  {
   "cell_type": "code",
   "execution_count": 43,
   "metadata": {},
   "outputs": [
    {
     "name": "stdout",
     "output_type": "stream",
     "text": [
      "3.141592653589793\n",
      "3.141592653589793\n"
     ]
    },
    {
     "data": {
      "text/plain": [
       "datetime.datetime(2019, 1, 13, 16, 38, 6, 740548)"
      ]
     },
     "execution_count": 43,
     "metadata": {},
     "output_type": "execute_result"
    }
   ],
   "source": [
    "#Module, package and import\n",
    "import math as m\n",
    "print(m.pi)\n",
    "#or we can import this way\n",
    "from math import *\n",
    "print(pi)\n",
    "#importing specific names from module instead importing entire module using from\n",
    "from datetime import datetime\n",
    "datetime.now()\n",
    "# from package we can import module with import and dot operator\n",
    "# package can be thought of as folder and sub package as sub folder "
   ]
  },
  {
   "cell_type": "code",
   "execution_count": 8,
   "metadata": {},
   "outputs": [
    {
     "data": {
      "text/plain": [
       "['This is my first string.This is second line of file']"
      ]
     },
     "execution_count": 8,
     "metadata": {},
     "output_type": "execute_result"
    }
   ],
   "source": [
    "# File input/output\n",
    "f=open(\"Example.txt\",'w')\n",
    "# closing the open file is a good habit since once closing is called whatever is there in buffer got written onto the file before exit. \n",
    "f.write(\"This is my first string.\")\n",
    "f.write(\"This is second line of file\")\n",
    "f.close()\n",
    "f=open(\"Example.txt\",'r')\n",
    "f.readlines()\n",
    "#to deal with deletion and all we need to import os"
   ]
  },
  {
   "cell_type": "code",
   "execution_count": 12,
   "metadata": {},
   "outputs": [
    {
     "data": {
      "text/plain": [
       "'C:\\\\Users\\\\Temp'"
      ]
     },
     "execution_count": 12,
     "metadata": {},
     "output_type": "execute_result"
    }
   ],
   "source": [
    "import os\n",
    "# current working directory\n",
    "#os module provides cool features about directory as well\n",
    "os.getcwd()\n"
   ]
  },
  {
   "cell_type": "code",
   "execution_count": 16,
   "metadata": {},
   "outputs": [
    {
     "name": "stdout",
     "output_type": "stream",
     "text": [
      "The entry is : b\n",
      "Entry error\n",
      "The entry is : 0\n",
      "Entry error\n",
      "The entry is : 2\n",
      "0.5\n"
     ]
    }
   ],
   "source": [
    "# for every error that occur python creates a new object with some details about why error has occured.\n",
    "l=['b',0,2]\n",
    "for entry in l:\n",
    "    try:\n",
    "        print(\"The entry is :\",entry)\n",
    "        r=1/entry;\n",
    "        print(r)\n",
    "    except:\n",
    "        print(\"Entry error\")\n",
    "    "
   ]
  },
  {
   "cell_type": "code",
   "execution_count": 19,
   "metadata": {},
   "outputs": [
    {
     "name": "stdout",
     "output_type": "stream",
     "text": [
      "Enter a positive number: -6\n",
      "Error:Entered a -ve number \n"
     ]
    }
   ],
   "source": [
    "# In a specific code we can also raise an error to show to user.\n",
    "# user can also rais an error \n",
    "try:\n",
    "    num=int(input(\"Enter a positive number: \"))\n",
    "    if num<0:\n",
    "        raise ValueError(\"Error:Entered a -ve number \")\n",
    "except ValueError as e:\n",
    "    print(e)\n",
    "    "
   ]
  },
  {
   "cell_type": "code",
   "execution_count": 20,
   "metadata": {},
   "outputs": [
    {
     "name": "stdout",
     "output_type": "stream",
     "text": [
      "> <ipython-input-20-2d230e4f6293>(6)seq()\n",
      "-> print(i)\n",
      "(Pdb) c\n",
      "0\n",
      "> <ipython-input-20-2d230e4f6293>(5)seq()\n",
      "-> pdb.set_trace()\n",
      "(Pdb) list\n",
      "  1  \t# debugging a code\n",
      "  2  \timport pdb\n",
      "  3  \tdef seq(n):\n",
      "  4  \t    for i in range(n):\n",
      "  5  ->\t        pdb.set_trace()\n",
      "  6  \t        print(i)\n",
      "  7  \tseq(5)\n",
      "[EOF]\n",
      "(Pdb) p:print\n",
      "*** SyntaxError: invalid syntax\n",
      "(Pdb) p i\n",
      "1\n",
      "(Pdb) c\n",
      "1\n",
      "> <ipython-input-20-2d230e4f6293>(6)seq()\n",
      "-> print(i)\n",
      "(Pdb) c\n",
      "2\n",
      "> <ipython-input-20-2d230e4f6293>(5)seq()\n",
      "-> pdb.set_trace()\n",
      "(Pdb) c\n",
      "3\n",
      "> <ipython-input-20-2d230e4f6293>(6)seq()\n",
      "-> print(i)\n",
      "(Pdb) c\n",
      "4\n"
     ]
    }
   ],
   "source": [
    "# debugging a code\n",
    "import pdb\n",
    "def seq(n):\n",
    "    for i in range(n):\n",
    "        pdb.set_trace()\n",
    "        print(i)\n",
    "seq(5)"
   ]
  },
  {
   "cell_type": "code",
   "execution_count": null,
   "metadata": {},
   "outputs": [],
   "source": []
  }
 ],
 "metadata": {
  "kernelspec": {
   "display_name": "Python 3",
   "language": "python",
   "name": "python3"
  },
  "language_info": {
   "codemirror_mode": {
    "name": "ipython",
    "version": 3
   },
   "file_extension": ".py",
   "mimetype": "text/x-python",
   "name": "python",
   "nbconvert_exporter": "python",
   "pygments_lexer": "ipython3",
   "version": "3.6.4"
  }
 },
 "nbformat": 4,
 "nbformat_minor": 2
}
